{
 "cells": [
  {
   "cell_type": "code",
   "execution_count": 10,
   "metadata": {},
   "outputs": [],
   "source": [
    "import pandas as pd\n",
    "import matplotlib.pyplot as plt\n",
    "import seaborn as sns"
   ]
  },
  {
   "cell_type": "markdown",
   "metadata": {},
   "source": [
    "# 2.1 Summary Statistics"
   ]
  },
  {
   "cell_type": "code",
   "execution_count": 3,
   "metadata": {},
   "outputs": [
    {
     "data": {
      "text/html": [
       "<div>\n",
       "<style scoped>\n",
       "    .dataframe tbody tr th:only-of-type {\n",
       "        vertical-align: middle;\n",
       "    }\n",
       "\n",
       "    .dataframe tbody tr th {\n",
       "        vertical-align: top;\n",
       "    }\n",
       "\n",
       "    .dataframe thead th {\n",
       "        text-align: right;\n",
       "    }\n",
       "</style>\n",
       "<table border=\"1\" class=\"dataframe\">\n",
       "  <thead>\n",
       "    <tr style=\"text-align: right;\">\n",
       "      <th></th>\n",
       "      <th>store</th>\n",
       "      <th>type</th>\n",
       "      <th>department</th>\n",
       "      <th>date</th>\n",
       "      <th>weekly_sales</th>\n",
       "      <th>is_holiday</th>\n",
       "      <th>temperature_c</th>\n",
       "      <th>fuel_price_usd_per_l</th>\n",
       "      <th>unemployment</th>\n",
       "    </tr>\n",
       "  </thead>\n",
       "  <tbody>\n",
       "    <tr>\n",
       "      <th>0</th>\n",
       "      <td>1</td>\n",
       "      <td>A</td>\n",
       "      <td>1</td>\n",
       "      <td>2010-02-05</td>\n",
       "      <td>24924.50</td>\n",
       "      <td>False</td>\n",
       "      <td>5.727778</td>\n",
       "      <td>0.679451</td>\n",
       "      <td>8.106</td>\n",
       "    </tr>\n",
       "    <tr>\n",
       "      <th>1</th>\n",
       "      <td>1</td>\n",
       "      <td>A</td>\n",
       "      <td>2</td>\n",
       "      <td>2010-02-05</td>\n",
       "      <td>50605.27</td>\n",
       "      <td>False</td>\n",
       "      <td>5.727778</td>\n",
       "      <td>0.679451</td>\n",
       "      <td>8.106</td>\n",
       "    </tr>\n",
       "    <tr>\n",
       "      <th>2</th>\n",
       "      <td>1</td>\n",
       "      <td>A</td>\n",
       "      <td>3</td>\n",
       "      <td>2010-02-05</td>\n",
       "      <td>13740.12</td>\n",
       "      <td>False</td>\n",
       "      <td>5.727778</td>\n",
       "      <td>0.679451</td>\n",
       "      <td>8.106</td>\n",
       "    </tr>\n",
       "    <tr>\n",
       "      <th>3</th>\n",
       "      <td>1</td>\n",
       "      <td>A</td>\n",
       "      <td>4</td>\n",
       "      <td>2010-02-05</td>\n",
       "      <td>39954.04</td>\n",
       "      <td>False</td>\n",
       "      <td>5.727778</td>\n",
       "      <td>0.679451</td>\n",
       "      <td>8.106</td>\n",
       "    </tr>\n",
       "    <tr>\n",
       "      <th>4</th>\n",
       "      <td>1</td>\n",
       "      <td>A</td>\n",
       "      <td>5</td>\n",
       "      <td>2010-02-05</td>\n",
       "      <td>32229.38</td>\n",
       "      <td>False</td>\n",
       "      <td>5.727778</td>\n",
       "      <td>0.679451</td>\n",
       "      <td>8.106</td>\n",
       "    </tr>\n",
       "    <tr>\n",
       "      <th>...</th>\n",
       "      <td>...</td>\n",
       "      <td>...</td>\n",
       "      <td>...</td>\n",
       "      <td>...</td>\n",
       "      <td>...</td>\n",
       "      <td>...</td>\n",
       "      <td>...</td>\n",
       "      <td>...</td>\n",
       "      <td>...</td>\n",
       "    </tr>\n",
       "    <tr>\n",
       "      <th>95</th>\n",
       "      <td>1</td>\n",
       "      <td>A</td>\n",
       "      <td>24</td>\n",
       "      <td>2010-02-12</td>\n",
       "      <td>8050.24</td>\n",
       "      <td>True</td>\n",
       "      <td>3.616667</td>\n",
       "      <td>0.673111</td>\n",
       "      <td>8.106</td>\n",
       "    </tr>\n",
       "    <tr>\n",
       "      <th>96</th>\n",
       "      <td>1</td>\n",
       "      <td>A</td>\n",
       "      <td>25</td>\n",
       "      <td>2010-02-12</td>\n",
       "      <td>13268.75</td>\n",
       "      <td>True</td>\n",
       "      <td>3.616667</td>\n",
       "      <td>0.673111</td>\n",
       "      <td>8.106</td>\n",
       "    </tr>\n",
       "    <tr>\n",
       "      <th>97</th>\n",
       "      <td>1</td>\n",
       "      <td>A</td>\n",
       "      <td>26</td>\n",
       "      <td>2010-02-12</td>\n",
       "      <td>10050.92</td>\n",
       "      <td>True</td>\n",
       "      <td>3.616667</td>\n",
       "      <td>0.673111</td>\n",
       "      <td>8.106</td>\n",
       "    </tr>\n",
       "    <tr>\n",
       "      <th>98</th>\n",
       "      <td>1</td>\n",
       "      <td>A</td>\n",
       "      <td>27</td>\n",
       "      <td>2010-02-12</td>\n",
       "      <td>2339.50</td>\n",
       "      <td>True</td>\n",
       "      <td>3.616667</td>\n",
       "      <td>0.673111</td>\n",
       "      <td>8.106</td>\n",
       "    </tr>\n",
       "    <tr>\n",
       "      <th>99</th>\n",
       "      <td>1</td>\n",
       "      <td>A</td>\n",
       "      <td>28</td>\n",
       "      <td>2010-02-12</td>\n",
       "      <td>1008.36</td>\n",
       "      <td>True</td>\n",
       "      <td>3.616667</td>\n",
       "      <td>0.673111</td>\n",
       "      <td>8.106</td>\n",
       "    </tr>\n",
       "  </tbody>\n",
       "</table>\n",
       "<p>100 rows × 9 columns</p>\n",
       "</div>"
      ],
      "text/plain": [
       "    store type  department       date  weekly_sales  is_holiday  \\\n",
       "0       1    A           1 2010-02-05      24924.50       False   \n",
       "1       1    A           2 2010-02-05      50605.27       False   \n",
       "2       1    A           3 2010-02-05      13740.12       False   \n",
       "3       1    A           4 2010-02-05      39954.04       False   \n",
       "4       1    A           5 2010-02-05      32229.38       False   \n",
       "..    ...  ...         ...        ...           ...         ...   \n",
       "95      1    A          24 2010-02-12       8050.24        True   \n",
       "96      1    A          25 2010-02-12      13268.75        True   \n",
       "97      1    A          26 2010-02-12      10050.92        True   \n",
       "98      1    A          27 2010-02-12       2339.50        True   \n",
       "99      1    A          28 2010-02-12       1008.36        True   \n",
       "\n",
       "    temperature_c  fuel_price_usd_per_l  unemployment  \n",
       "0        5.727778              0.679451         8.106  \n",
       "1        5.727778              0.679451         8.106  \n",
       "2        5.727778              0.679451         8.106  \n",
       "3        5.727778              0.679451         8.106  \n",
       "4        5.727778              0.679451         8.106  \n",
       "..            ...                   ...           ...  \n",
       "95       3.616667              0.673111         8.106  \n",
       "96       3.616667              0.673111         8.106  \n",
       "97       3.616667              0.673111         8.106  \n",
       "98       3.616667              0.673111         8.106  \n",
       "99       3.616667              0.673111         8.106  \n",
       "\n",
       "[100 rows x 9 columns]"
      ]
     },
     "execution_count": 3,
     "metadata": {},
     "output_type": "execute_result"
    }
   ],
   "source": [
    "walmart = pd.read_pickle('Datasets/walmart_sales.pkl.bz2')\n",
    "walmart.head(100)"
   ]
  },
  {
   "cell_type": "code",
   "execution_count": 41,
   "metadata": {},
   "outputs": [
    {
     "data": {
      "text/plain": [
       "array(['A', 'B', 'C'], dtype=object)"
      ]
     },
     "execution_count": 41,
     "metadata": {},
     "output_type": "execute_result"
    }
   ],
   "source": [
    "walmart['type'].unique()"
   ]
  },
  {
   "cell_type": "markdown",
   "metadata": {},
   "source": [
    "### 2.1.1 Summary Statistics for Numerical Column\n",
    "mean(), median(), mode(), min(), max(), std(), var(), sum(), quantile()"
   ]
  },
  {
   "cell_type": "code",
   "execution_count": 25,
   "metadata": {
    "collapsed": true
   },
   "outputs": [
    {
     "data": {
      "text/plain": [
       "521909341.7459299"
      ]
     },
     "execution_count": 25,
     "metadata": {},
     "output_type": "execute_result"
    }
   ],
   "source": [
    "walmart['weekly_sales'].quantile(0.3)\n",
    "walmart['weekly_sales'].mean()\n",
    "walmart['weekly_sales'].median()\n",
    "walmart['weekly_sales'].mode()\n",
    "walmart['weekly_sales'].min()\n",
    "walmart['weekly_sales'].max()\n",
    "walmart['weekly_sales'].sum()\n",
    "walmart['weekly_sales'].std()\n",
    "walmart['weekly_sales'].var()"
   ]
  },
  {
   "cell_type": "markdown",
   "metadata": {},
   "source": [
    "### 2.1.1 Summary Statistics for Date Column"
   ]
  },
  {
   "cell_type": "code",
   "execution_count": 26,
   "metadata": {
    "collapsed": true
   },
   "outputs": [
    {
     "data": {
      "text/plain": [
       "Timestamp('2012-10-26 00:00:00')"
      ]
     },
     "execution_count": 26,
     "metadata": {},
     "output_type": "execute_result"
    }
   ],
   "source": [
    "walmart['date'].max()"
   ]
  },
  {
   "cell_type": "markdown",
   "metadata": {},
   "source": [
    "### 2.1.3 The agg() method"
   ]
  },
  {
   "cell_type": "code",
   "execution_count": 31,
   "metadata": {
    "collapsed": true
   },
   "outputs": [
    {
     "data": {
      "text/html": [
       "<div>\n",
       "<style scoped>\n",
       "    .dataframe tbody tr th:only-of-type {\n",
       "        vertical-align: middle;\n",
       "    }\n",
       "\n",
       "    .dataframe tbody tr th {\n",
       "        vertical-align: top;\n",
       "    }\n",
       "\n",
       "    .dataframe thead th {\n",
       "        text-align: right;\n",
       "    }\n",
       "</style>\n",
       "<table border=\"1\" class=\"dataframe\">\n",
       "  <thead>\n",
       "    <tr style=\"text-align: right;\">\n",
       "      <th></th>\n",
       "      <th>store</th>\n",
       "      <th>type</th>\n",
       "      <th>department</th>\n",
       "      <th>date</th>\n",
       "      <th>weekly_sales</th>\n",
       "      <th>is_holiday</th>\n",
       "      <th>temperature_c</th>\n",
       "      <th>fuel_price_usd_per_l</th>\n",
       "      <th>unemployment</th>\n",
       "    </tr>\n",
       "  </thead>\n",
       "  <tbody>\n",
       "    <tr>\n",
       "      <th>sum_of</th>\n",
       "      <td>8978789.0</td>\n",
       "      <td>AAAAAAAAAAAAAAAAAAAAAAAAAAAAAAAAAAAAAAAAAAAAAA...</td>\n",
       "      <td>18246209.0</td>\n",
       "      <td>NaT</td>\n",
       "      <td>6.649037e+09</td>\n",
       "      <td>29063.0</td>\n",
       "      <td>6.458002e+06</td>\n",
       "      <td>366667.527692</td>\n",
       "      <td>3282739.182</td>\n",
       "    </tr>\n",
       "    <tr>\n",
       "      <th>pct45</th>\n",
       "      <td>19.0</td>\n",
       "      <td>NaN</td>\n",
       "      <td>33.0</td>\n",
       "      <td>2011-04-29</td>\n",
       "      <td>6.212793e+03</td>\n",
       "      <td>0.0</td>\n",
       "      <td>1.508333e+01</td>\n",
       "      <td>0.882599</td>\n",
       "      <td>7.682</td>\n",
       "    </tr>\n",
       "  </tbody>\n",
       "</table>\n",
       "</div>"
      ],
      "text/plain": [
       "            store                                               type  \\\n",
       "sum_of  8978789.0  AAAAAAAAAAAAAAAAAAAAAAAAAAAAAAAAAAAAAAAAAAAAAA...   \n",
       "pct45        19.0                                                NaN   \n",
       "\n",
       "        department       date  weekly_sales  is_holiday  temperature_c  \\\n",
       "sum_of  18246209.0        NaT  6.649037e+09     29063.0   6.458002e+06   \n",
       "pct45         33.0 2011-04-29  6.212793e+03         0.0   1.508333e+01   \n",
       "\n",
       "        fuel_price_usd_per_l  unemployment  \n",
       "sum_of         366667.527692   3282739.182  \n",
       "pct45               0.882599         7.682  "
      ]
     },
     "execution_count": 31,
     "metadata": {},
     "output_type": "execute_result"
    }
   ],
   "source": [
    "def pct45(column):\n",
    "    return column.quantile(0.45)\n",
    "def sum_of(column):\n",
    "    return column.sum()\n",
    "# agg() on a single column\n",
    "walmart['weekly_sales'].agg(pct45)\n",
    "# agg() on multiple column\n",
    "walmart[['weekly_sales', 'temperature_c']].agg(pct45)\n",
    "# agg() on multiple column and using multiple summary\n",
    "walmart[['weekly_sales', 'temperature_c']].agg([sum_of, pct45])\n",
    "# agg() can also be used on a dataframe as well\n",
    "walmart.agg([sum_of, pct45])"
   ]
  },
  {
   "cell_type": "markdown",
   "metadata": {},
   "source": [
    "### 2.1.4 Cumulative Summary Statistics\n",
    ".cumsum()\n",
    ".cummin()\n",
    ".cummax()\n",
    ".cumprod()"
   ]
  },
  {
   "cell_type": "code",
   "execution_count": 36,
   "metadata": {
    "collapsed": true
   },
   "outputs": [
    {
     "data": {
      "text/html": [
       "<div>\n",
       "<style scoped>\n",
       "    .dataframe tbody tr th:only-of-type {\n",
       "        vertical-align: middle;\n",
       "    }\n",
       "\n",
       "    .dataframe tbody tr th {\n",
       "        vertical-align: top;\n",
       "    }\n",
       "\n",
       "    .dataframe thead th {\n",
       "        text-align: right;\n",
       "    }\n",
       "</style>\n",
       "<table border=\"1\" class=\"dataframe\">\n",
       "  <thead>\n",
       "    <tr style=\"text-align: right;\">\n",
       "      <th></th>\n",
       "      <th>weekly_sales</th>\n",
       "      <th>temperature_c</th>\n",
       "    </tr>\n",
       "  </thead>\n",
       "  <tbody>\n",
       "    <tr>\n",
       "      <th>0</th>\n",
       "      <td>2.492450e+04</td>\n",
       "      <td>5.727778</td>\n",
       "    </tr>\n",
       "    <tr>\n",
       "      <th>1</th>\n",
       "      <td>1.261311e+09</td>\n",
       "      <td>32.807438</td>\n",
       "    </tr>\n",
       "    <tr>\n",
       "      <th>2</th>\n",
       "      <td>1.733057e+13</td>\n",
       "      <td>187.913716</td>\n",
       "    </tr>\n",
       "    <tr>\n",
       "      <th>3</th>\n",
       "      <td>6.924261e+17</td>\n",
       "      <td>1076.328006</td>\n",
       "    </tr>\n",
       "    <tr>\n",
       "      <th>4</th>\n",
       "      <td>2.231646e+22</td>\n",
       "      <td>6164.967634</td>\n",
       "    </tr>\n",
       "    <tr>\n",
       "      <th>...</th>\n",
       "      <td>...</td>\n",
       "      <td>...</td>\n",
       "    </tr>\n",
       "    <tr>\n",
       "      <th>413114</th>\n",
       "      <td>NaN</td>\n",
       "      <td>-inf</td>\n",
       "    </tr>\n",
       "    <tr>\n",
       "      <th>413115</th>\n",
       "      <td>NaN</td>\n",
       "      <td>-inf</td>\n",
       "    </tr>\n",
       "    <tr>\n",
       "      <th>413116</th>\n",
       "      <td>NaN</td>\n",
       "      <td>-inf</td>\n",
       "    </tr>\n",
       "    <tr>\n",
       "      <th>413117</th>\n",
       "      <td>NaN</td>\n",
       "      <td>-inf</td>\n",
       "    </tr>\n",
       "    <tr>\n",
       "      <th>413118</th>\n",
       "      <td>NaN</td>\n",
       "      <td>-inf</td>\n",
       "    </tr>\n",
       "  </tbody>\n",
       "</table>\n",
       "<p>413119 rows × 2 columns</p>\n",
       "</div>"
      ],
      "text/plain": [
       "        weekly_sales  temperature_c\n",
       "0       2.492450e+04       5.727778\n",
       "1       1.261311e+09      32.807438\n",
       "2       1.733057e+13     187.913716\n",
       "3       6.924261e+17    1076.328006\n",
       "4       2.231646e+22    6164.967634\n",
       "...              ...            ...\n",
       "413114           NaN           -inf\n",
       "413115           NaN           -inf\n",
       "413116           NaN           -inf\n",
       "413117           NaN           -inf\n",
       "413118           NaN           -inf\n",
       "\n",
       "[413119 rows x 2 columns]"
      ]
     },
     "execution_count": 36,
     "metadata": {},
     "output_type": "execute_result"
    }
   ],
   "source": [
    "walmart[['weekly_sales', 'temperature_c']].cumsum()\n",
    "walmart[['weekly_sales', 'temperature_c']].cummin()\n",
    "walmart[['weekly_sales', 'temperature_c']].cumprod()"
   ]
  },
  {
   "cell_type": "markdown",
   "metadata": {},
   "source": [
    "# 2.2 Counting"
   ]
  },
  {
   "cell_type": "code",
   "execution_count": 5,
   "metadata": {},
   "outputs": [
    {
     "data": {
      "text/plain": [
       "store  department\n",
       "1      1             143\n",
       "       2             143\n",
       "       3             143\n",
       "       4             143\n",
       "       5             143\n",
       "                    ... \n",
       "45     5             143\n",
       "       6             143\n",
       "       7             143\n",
       "       8             143\n",
       "       9              42\n",
       "Name: department, Length: 3266, dtype: int64"
      ]
     },
     "execution_count": 5,
     "metadata": {},
     "output_type": "execute_result"
    }
   ],
   "source": [
    "walmart.groupby(by='store')['department'].value_counts()"
   ]
  },
  {
   "cell_type": "code",
   "execution_count": 6,
   "metadata": {},
   "outputs": [
    {
     "data": {
      "text/html": [
       "<div>\n",
       "<style scoped>\n",
       "    .dataframe tbody tr th:only-of-type {\n",
       "        vertical-align: middle;\n",
       "    }\n",
       "\n",
       "    .dataframe tbody tr th {\n",
       "        vertical-align: top;\n",
       "    }\n",
       "\n",
       "    .dataframe thead th {\n",
       "        text-align: right;\n",
       "    }\n",
       "</style>\n",
       "<table border=\"1\" class=\"dataframe\">\n",
       "  <thead>\n",
       "    <tr style=\"text-align: right;\">\n",
       "      <th></th>\n",
       "      <th>store</th>\n",
       "      <th>type</th>\n",
       "      <th>department</th>\n",
       "      <th>date</th>\n",
       "      <th>weekly_sales</th>\n",
       "      <th>is_holiday</th>\n",
       "      <th>temperature_c</th>\n",
       "      <th>fuel_price_usd_per_l</th>\n",
       "      <th>unemployment</th>\n",
       "    </tr>\n",
       "  </thead>\n",
       "  <tbody>\n",
       "    <tr>\n",
       "      <th>0</th>\n",
       "      <td>1</td>\n",
       "      <td>A</td>\n",
       "      <td>1</td>\n",
       "      <td>2010-02-05</td>\n",
       "      <td>24924.50</td>\n",
       "      <td>False</td>\n",
       "      <td>5.727778</td>\n",
       "      <td>0.679451</td>\n",
       "      <td>8.106</td>\n",
       "    </tr>\n",
       "    <tr>\n",
       "      <th>1</th>\n",
       "      <td>1</td>\n",
       "      <td>A</td>\n",
       "      <td>2</td>\n",
       "      <td>2010-02-05</td>\n",
       "      <td>50605.27</td>\n",
       "      <td>False</td>\n",
       "      <td>5.727778</td>\n",
       "      <td>0.679451</td>\n",
       "      <td>8.106</td>\n",
       "    </tr>\n",
       "    <tr>\n",
       "      <th>2</th>\n",
       "      <td>1</td>\n",
       "      <td>A</td>\n",
       "      <td>3</td>\n",
       "      <td>2010-02-05</td>\n",
       "      <td>13740.12</td>\n",
       "      <td>False</td>\n",
       "      <td>5.727778</td>\n",
       "      <td>0.679451</td>\n",
       "      <td>8.106</td>\n",
       "    </tr>\n",
       "    <tr>\n",
       "      <th>3</th>\n",
       "      <td>1</td>\n",
       "      <td>A</td>\n",
       "      <td>4</td>\n",
       "      <td>2010-02-05</td>\n",
       "      <td>39954.04</td>\n",
       "      <td>False</td>\n",
       "      <td>5.727778</td>\n",
       "      <td>0.679451</td>\n",
       "      <td>8.106</td>\n",
       "    </tr>\n",
       "    <tr>\n",
       "      <th>4</th>\n",
       "      <td>1</td>\n",
       "      <td>A</td>\n",
       "      <td>5</td>\n",
       "      <td>2010-02-05</td>\n",
       "      <td>32229.38</td>\n",
       "      <td>False</td>\n",
       "      <td>5.727778</td>\n",
       "      <td>0.679451</td>\n",
       "      <td>8.106</td>\n",
       "    </tr>\n",
       "    <tr>\n",
       "      <th>...</th>\n",
       "      <td>...</td>\n",
       "      <td>...</td>\n",
       "      <td>...</td>\n",
       "      <td>...</td>\n",
       "      <td>...</td>\n",
       "      <td>...</td>\n",
       "      <td>...</td>\n",
       "      <td>...</td>\n",
       "      <td>...</td>\n",
       "    </tr>\n",
       "    <tr>\n",
       "      <th>413114</th>\n",
       "      <td>45</td>\n",
       "      <td>B</td>\n",
       "      <td>4</td>\n",
       "      <td>2012-10-26</td>\n",
       "      <td>24627.94</td>\n",
       "      <td>False</td>\n",
       "      <td>14.916667</td>\n",
       "      <td>1.025516</td>\n",
       "      <td>8.667</td>\n",
       "    </tr>\n",
       "    <tr>\n",
       "      <th>413115</th>\n",
       "      <td>45</td>\n",
       "      <td>B</td>\n",
       "      <td>5</td>\n",
       "      <td>2012-10-26</td>\n",
       "      <td>13256.59</td>\n",
       "      <td>False</td>\n",
       "      <td>14.916667</td>\n",
       "      <td>1.025516</td>\n",
       "      <td>8.667</td>\n",
       "    </tr>\n",
       "    <tr>\n",
       "      <th>413116</th>\n",
       "      <td>45</td>\n",
       "      <td>B</td>\n",
       "      <td>6</td>\n",
       "      <td>2012-10-26</td>\n",
       "      <td>1086.31</td>\n",
       "      <td>False</td>\n",
       "      <td>14.916667</td>\n",
       "      <td>1.025516</td>\n",
       "      <td>8.667</td>\n",
       "    </tr>\n",
       "    <tr>\n",
       "      <th>413117</th>\n",
       "      <td>45</td>\n",
       "      <td>B</td>\n",
       "      <td>7</td>\n",
       "      <td>2012-10-26</td>\n",
       "      <td>20356.73</td>\n",
       "      <td>False</td>\n",
       "      <td>14.916667</td>\n",
       "      <td>1.025516</td>\n",
       "      <td>8.667</td>\n",
       "    </tr>\n",
       "    <tr>\n",
       "      <th>413118</th>\n",
       "      <td>45</td>\n",
       "      <td>B</td>\n",
       "      <td>8</td>\n",
       "      <td>2012-10-26</td>\n",
       "      <td>37857.64</td>\n",
       "      <td>False</td>\n",
       "      <td>14.916667</td>\n",
       "      <td>1.025516</td>\n",
       "      <td>8.667</td>\n",
       "    </tr>\n",
       "  </tbody>\n",
       "</table>\n",
       "<p>413119 rows × 9 columns</p>\n",
       "</div>"
      ],
      "text/plain": [
       "        store type  department       date  weekly_sales  is_holiday  \\\n",
       "0           1    A           1 2010-02-05      24924.50       False   \n",
       "1           1    A           2 2010-02-05      50605.27       False   \n",
       "2           1    A           3 2010-02-05      13740.12       False   \n",
       "3           1    A           4 2010-02-05      39954.04       False   \n",
       "4           1    A           5 2010-02-05      32229.38       False   \n",
       "...       ...  ...         ...        ...           ...         ...   \n",
       "413114     45    B           4 2012-10-26      24627.94       False   \n",
       "413115     45    B           5 2012-10-26      13256.59       False   \n",
       "413116     45    B           6 2012-10-26       1086.31       False   \n",
       "413117     45    B           7 2012-10-26      20356.73       False   \n",
       "413118     45    B           8 2012-10-26      37857.64       False   \n",
       "\n",
       "        temperature_c  fuel_price_usd_per_l  unemployment  \n",
       "0            5.727778              0.679451         8.106  \n",
       "1            5.727778              0.679451         8.106  \n",
       "2            5.727778              0.679451         8.106  \n",
       "3            5.727778              0.679451         8.106  \n",
       "4            5.727778              0.679451         8.106  \n",
       "...               ...                   ...           ...  \n",
       "413114      14.916667              1.025516         8.667  \n",
       "413115      14.916667              1.025516         8.667  \n",
       "413116      14.916667              1.025516         8.667  \n",
       "413117      14.916667              1.025516         8.667  \n",
       "413118      14.916667              1.025516         8.667  \n",
       "\n",
       "[413119 rows x 9 columns]"
      ]
     },
     "execution_count": 6,
     "metadata": {},
     "output_type": "execute_result"
    }
   ],
   "source": [
    "walmart.drop_duplicates(subset=['store', 'department', 'date'])"
   ]
  },
  {
   "cell_type": "code",
   "execution_count": 9,
   "metadata": {},
   "outputs": [
    {
     "data": {
      "text/plain": [
       "Timestamp('2012-10-26 00:00:00')"
      ]
     },
     "execution_count": 9,
     "metadata": {},
     "output_type": "execute_result"
    }
   ],
   "source": [
    "walmart['date'].max()"
   ]
  },
  {
   "cell_type": "code",
   "execution_count": 15,
   "metadata": {},
   "outputs": [
    {
     "data": {
      "text/plain": [
       "(array([733773., 733893., 734016., 734138., 734258., 734381., 734503.,\n",
       "        734624., 734747.]),\n",
       " <a list of 9 Text major ticklabel objects>)"
      ]
     },
     "execution_count": 15,
     "metadata": {},
     "output_type": "execute_result"
    },
    {
     "data": {
      "image/png": "[encoded data removed]",
      "text/plain": [
       "<Figure size 360x360 with 1 Axes>"
      ]
     },
     "metadata": {
      "needs_background": "light"
     },
     "output_type": "display_data"
    }
   ],
   "source": [
    "# weekly sales trend\n",
    "sns.relplot(x='date', y='weekly_sales', data=walmart, kind='line', ci=None)\n",
    "plt.xticks(rotation=90)"
   ]
  },
  {
   "cell_type": "code",
   "execution_count": 20,
   "metadata": {},
   "outputs": [
    {
     "data": {
      "text/plain": [
       "<seaborn.axisgrid.FacetGrid at 0x26317f12670>"
      ]
     },
     "execution_count": 20,
     "metadata": {},
     "output_type": "execute_result"
    },
    {
     "data": {
      "image/png": "[encoded data removed]",
      "text/plain": [
       "<Figure size 360x360 with 1 Axes>"
      ]
     },
     "metadata": {
      "needs_background": "light"
     },
     "output_type": "display_data"
    }
   ],
   "source": [
    "sns.catplot(x='is_holiday', y='weekly_sales', data=walmart, kind='point')"
   ]
  },
  {
   "cell_type": "code",
   "execution_count": null,
   "metadata": {},
   "outputs": [],
   "source": []
  }
 ],
 "metadata": {
  "kernelspec": {
   "display_name": "Python 3",
   "language": "python",
   "name": "python3"
  },
  "language_info": {
   "codemirror_mode": {
    "name": "ipython",
    "version": 3
   },
   "file_extension": ".py",
   "mimetype": "text/x-python",
   "name": "python",
   "nbconvert_exporter": "python",
   "pygments_lexer": "ipython3",
   "version": "3.8.3"
  }
 },
 "nbformat": 4,
 "nbformat_minor": 4
}
